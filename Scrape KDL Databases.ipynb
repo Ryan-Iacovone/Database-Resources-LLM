{
 "cells": [
  {
   "cell_type": "code",
   "execution_count": 1,
   "metadata": {},
   "outputs": [],
   "source": [
    "import requests\n",
    "from bs4 import BeautifulSoup\n",
    "import pandas as pd\n",
    "from selenium import webdriver\n",
    "from selenium.webdriver.common.by import By\n",
    "import json"
   ]
  },
  {
   "cell_type": "code",
   "execution_count": 2,
   "metadata": {},
   "outputs": [],
   "source": [
    "url =  \"https://kdl.org/resource/\"\n",
    "\n",
    "html = requests.get(url)\n",
    "\n",
    "soup = BeautifulSoup(html.content, 'html.parser')"
   ]
  },
  {
   "cell_type": "code",
   "execution_count": 3,
   "metadata": {},
   "outputs": [],
   "source": [
    "block1 = soup.find_all(\"h3\" ,class_='entry-header resource-title')"
   ]
  },
  {
   "cell_type": "code",
   "execution_count": 4,
   "metadata": {},
   "outputs": [],
   "source": [
    "data_list = []\n",
    "\n",
    "for tag in block1:\n",
    "    # Grabbing the db link\n",
    "    link = tag.find('a')['href']\n",
    "\n",
    "    # Grabbing the db title\n",
    "    block = tag.find('a', class_='o-link--double-chevron o-heading--medium')\n",
    "\n",
    "    # Extract the data-analytics attribute and parse the JSON   \n",
    "    data_analytics = json.loads(block['data-analytics'])\n",
    "    \n",
    "    # Extract the web_content_title from json\n",
    "    title = data_analytics[0]['entities']['web_content']['web_content_title']\n",
    "\n",
    "    # Append to the list as a dictionary\n",
    "    data_list.append({'title': title, 'link': link})\n",
    "\n",
    "# Create DataFrame from the list of dictionaries\n",
    "the_df = pd.DataFrame(data_list)"
   ]
  },
  {
   "cell_type": "code",
   "execution_count": 5,
   "metadata": {},
   "outputs": [],
   "source": [
    "desc_list = []\n",
    "\n",
    "block2 = soup.find_all(\"div\" ,class_='or-description') # This resource is only available from within a library building. PROBLEM\n",
    "\n",
    "for desc in block2:\n",
    "    #print(desc, \"\\n\")\n",
    "    description = desc.find(\"p\").get_text(strip=True)\n",
    "    \n",
    "    desc_list.append(description)"
   ]
  },
  {
   "cell_type": "code",
   "execution_count": 6,
   "metadata": {},
   "outputs": [],
   "source": [
    "# combine all info together \n",
    "\n",
    "the_df = the_df.assign(Description = desc_list)"
   ]
  },
  {
   "cell_type": "code",
   "execution_count": 7,
   "metadata": {},
   "outputs": [],
   "source": [
    "# saving options for the KDL database db\n",
    "\n",
    "# convert df to JSON\n",
    "json_data = the_df.to_json(orient='records')\n",
    "\n",
    "# save the JSON data to a file\n",
    "with open('databaesDB.json', 'w') as f:\n",
    "    f.write(json_data)\n",
    "\n",
    "#file_path = r\"data\\databasedb.csv\"\n",
    "\n",
    "#the_df.to_excel(file_path, index=False)\n",
    "#the_df.to_csv(file_path, index=False)"
   ]
  }
 ],
 "metadata": {
  "kernelspec": {
   "display_name": "Python 3",
   "language": "python",
   "name": "python3"
  },
  "language_info": {
   "codemirror_mode": {
    "name": "ipython",
    "version": 3
   },
   "file_extension": ".py",
   "mimetype": "text/x-python",
   "name": "python",
   "nbconvert_exporter": "python",
   "pygments_lexer": "ipython3",
   "version": "3.10.11"
  }
 },
 "nbformat": 4,
 "nbformat_minor": 2
}
